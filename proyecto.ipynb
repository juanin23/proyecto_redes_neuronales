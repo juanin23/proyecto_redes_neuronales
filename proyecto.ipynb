{
 "cells": [
  {
   "cell_type": "code",
   "execution_count": 13,
   "metadata": {},
   "outputs": [],
   "source": [
    "from keras.models import Sequential\n",
    "from keras.layers import Dense, LSTM, Dropout, Activation\n",
    "from keras.layers import BatchNormalization as BatchNorm\n",
    "from keras.utils import np_utils\n",
    "import glob as gl\n",
    "import pickle as pic\n",
    "import numpy as np\n",
    "from music21 import converter, instrument, note, chord, pitch, stream\n",
    "from keras.utils import np_utils"
   ]
  },
  {
   "cell_type": "markdown",
   "metadata": {},
   "source": [
    "## Codificación de los datos de las canciones"
   ]
  },
  {
   "cell_type": "code",
   "execution_count": 14,
   "metadata": {},
   "outputs": [],
   "source": [
    "notas = []\n",
    "\n",
    "codificar = []\n",
    "\n",
    "for archivo in gl.glob(\"canciones/*.mid\"):\n",
    "    cancion = converter.parse(archivo)\n",
    "    \n",
    "    aux = instrument.partitionByInstrument(cancion)\n",
    "    \n",
    "    codificar = aux.parts[0].recurse()\n",
    "    \n",
    "    for elemento in codificar:\n",
    "        if isinstance(elemento, note.Note):\n",
    "            n = str(elemento.pitch)\n",
    "            notas.append(n)\n",
    "        if isinstance(elemento, chord.Chord):\n",
    "            notes = []\n",
    "            for nota in elemento:\n",
    "                notes.append(str(nota.pitch.midi))\n",
    "            a = '.'.join(notes)\n",
    "            notas.append(a)\n"
   ]
  },
  {
   "cell_type": "markdown",
   "metadata": {},
   "source": [
    "## Generación de las secuencias para el entrenamiento"
   ]
  },
  {
   "cell_type": "code",
   "execution_count": 15,
   "metadata": {},
   "outputs": [],
   "source": [
    "num_notas_distintas = len(set(notas))\n",
    "tam_secuencia = 100\n",
    "\n",
    "tonos = sorted(set(elemento for elemento in notas))\n",
    "nota_a_int = dict((nota, numero) for numero, nota in enumerate(tonos))\n",
    "int_a_nota = dict((numero, nota) for numero, nota in enumerate(tonos))"
   ]
  },
  {
   "cell_type": "code",
   "execution_count": 16,
   "metadata": {},
   "outputs": [],
   "source": [
    "X = []\n",
    "y = []\n",
    "\n",
    "for i in range(0, len(notas) - tam_secuencia, 1):\n",
    "    secuencia = notas[i: i+tam_secuencia]\n",
    "    nota_sig = notas[i + tam_secuencia]\n",
    "    X.append([nota_a_int[nota] for nota in secuencia])\n",
    "    y.append(nota_a_int[nota_sig])"
   ]
  },
  {
   "cell_type": "code",
   "execution_count": 17,
   "metadata": {},
   "outputs": [],
   "source": [
    "X_tr = np.reshape(X, (len(X), tam_secuencia, 1))\n",
    "\n",
    "\n",
    "X_tr = X_tr / num_notas_distintas\n",
    "\n",
    "\n",
    "y_tr = np_utils.to_categorical(y)"
   ]
  },
  {
   "cell_type": "markdown",
   "metadata": {},
   "source": [
    "## Arquitectura de la red"
   ]
  },
  {
   "cell_type": "code",
   "execution_count": 18,
   "metadata": {},
   "outputs": [],
   "source": [
    "model = Sequential()\n",
    "model.add(LSTM(512,\n",
    "               input_shape=(X_tr.shape[1], X_tr.shape[2]),\n",
    "               recurrent_dropout=0.3,\n",
    "               return_sequences=True))\n",
    "model.add(LSTM(512, return_sequences=True, recurrent_dropout=0.3,))\n",
    "model.add(LSTM(512))\n",
    "model.add(BatchNorm())\n",
    "model.add(Dropout(0.3))\n",
    "model.add(Dense(256))\n",
    "model.add(Activation('relu'))\n",
    "model.add(BatchNorm())\n",
    "model.add(Dropout(0.3))\n",
    "model.add(Dense(num_notas_distintas))\n",
    "model.add(Activation('softmax'))"
   ]
  },
  {
   "cell_type": "code",
   "execution_count": 19,
   "metadata": {},
   "outputs": [
    {
     "name": "stdout",
     "output_type": "stream",
     "text": [
      "Model: \"sequential_2\"\n",
      "_________________________________________________________________\n",
      "Layer (type)                 Output Shape              Param #   \n",
      "=================================================================\n",
      "lstm_4 (LSTM)                (None, 100, 512)          1052672   \n",
      "_________________________________________________________________\n",
      "lstm_5 (LSTM)                (None, 100, 512)          2099200   \n",
      "_________________________________________________________________\n",
      "lstm_6 (LSTM)                (None, 512)               2099200   \n",
      "_________________________________________________________________\n",
      "batch_normalization_3 (Batch (None, 512)               2048      \n",
      "_________________________________________________________________\n",
      "dropout_3 (Dropout)          (None, 512)               0         \n",
      "_________________________________________________________________\n",
      "dense_3 (Dense)              (None, 256)               131328    \n",
      "_________________________________________________________________\n",
      "activation_3 (Activation)    (None, 256)               0         \n",
      "_________________________________________________________________\n",
      "batch_normalization_4 (Batch (None, 256)               1024      \n",
      "_________________________________________________________________\n",
      "dropout_4 (Dropout)          (None, 256)               0         \n",
      "_________________________________________________________________\n",
      "dense_4 (Dense)              (None, 451)               115907    \n",
      "_________________________________________________________________\n",
      "activation_4 (Activation)    (None, 451)               0         \n",
      "=================================================================\n",
      "Total params: 5,501,379\n",
      "Trainable params: 5,499,843\n",
      "Non-trainable params: 1,536\n",
      "_________________________________________________________________\n"
     ]
    }
   ],
   "source": [
    "model.summary()"
   ]
  },
  {
   "cell_type": "markdown",
   "metadata": {},
   "source": [
    "## Compilación y entrenamiento de la red"
   ]
  },
  {
   "cell_type": "code",
   "execution_count": 20,
   "metadata": {},
   "outputs": [],
   "source": [
    "model.compile(loss='categorical_crossentropy', optimizer='adam')"
   ]
  },
  {
   "cell_type": "code",
   "execution_count": 21,
   "metadata": {},
   "outputs": [
    {
     "name": "stdout",
     "output_type": "stream",
     "text": [
      "Epoch 1/50\n",
      "8035/8035 [==============================] - 446s 55ms/step - loss: 5.6642\n",
      "Epoch 2/50\n",
      "8035/8035 [==============================] - 428s 53ms/step - loss: 5.1317\n",
      "Epoch 3/50\n",
      "8035/8035 [==============================] - 429s 53ms/step - loss: 4.9870\n",
      "Epoch 4/50\n",
      "8035/8035 [==============================] - 429s 53ms/step - loss: 4.8107\n",
      "Epoch 5/50\n",
      "8035/8035 [==============================] - 429s 53ms/step - loss: 4.6460\n",
      "Epoch 6/50\n",
      "8035/8035 [==============================] - 429s 53ms/step - loss: 4.5166\n",
      "Epoch 7/50\n",
      "8035/8035 [==============================] - 429s 53ms/step - loss: 4.3816\n",
      "Epoch 8/50\n",
      "8035/8035 [==============================] - 428s 53ms/step - loss: 4.3000\n",
      "Epoch 9/50\n",
      "8035/8035 [==============================] - 429s 53ms/step - loss: 4.1715\n",
      "Epoch 10/50\n",
      "8035/8035 [==============================] - 431s 54ms/step - loss: 4.0265\n",
      "Epoch 11/50\n",
      "8035/8035 [==============================] - 430s 54ms/step - loss: 3.8749\n",
      "Epoch 12/50\n",
      "8035/8035 [==============================] - 429s 53ms/step - loss: 3.7362\n",
      "Epoch 13/50\n",
      "8035/8035 [==============================] - 429s 53ms/step - loss: 3.5563\n",
      "Epoch 14/50\n",
      "8035/8035 [==============================] - 429s 53ms/step - loss: 3.4150\n",
      "Epoch 15/50\n",
      "8035/8035 [==============================] - 429s 53ms/step - loss: 3.2678\n",
      "Epoch 16/50\n",
      "8035/8035 [==============================] - 429s 53ms/step - loss: 3.0514\n",
      "Epoch 17/50\n",
      "8035/8035 [==============================] - 429s 53ms/step - loss: 2.8812\n",
      "Epoch 18/50\n",
      "8035/8035 [==============================] - 429s 53ms/step - loss: 2.6543\n",
      "Epoch 19/50\n",
      "8035/8035 [==============================] - 430s 53ms/step - loss: 2.4980\n",
      "Epoch 20/50\n",
      "8035/8035 [==============================] - 429s 53ms/step - loss: 2.3323\n",
      "Epoch 21/50\n",
      "8035/8035 [==============================] - 429s 53ms/step - loss: 2.1607\n",
      "Epoch 22/50\n",
      "8035/8035 [==============================] - 430s 54ms/step - loss: 2.0060\n",
      "Epoch 23/50\n",
      "8035/8035 [==============================] - 429s 53ms/step - loss: 1.8673\n",
      "Epoch 24/50\n",
      "8035/8035 [==============================] - 429s 53ms/step - loss: 1.7425\n",
      "Epoch 25/50\n",
      "8035/8035 [==============================] - 430s 53ms/step - loss: 1.6288\n",
      "Epoch 26/50\n",
      "8035/8035 [==============================] - 430s 53ms/step - loss: 1.5643\n",
      "Epoch 27/50\n",
      "8035/8035 [==============================] - 430s 54ms/step - loss: 1.4275\n",
      "Epoch 28/50\n",
      "8035/8035 [==============================] - 430s 54ms/step - loss: 1.3119\n",
      "Epoch 29/50\n",
      "8035/8035 [==============================] - 430s 53ms/step - loss: 1.2554\n",
      "Epoch 30/50\n",
      "8035/8035 [==============================] - 430s 54ms/step - loss: 1.2622\n",
      "Epoch 31/50\n",
      "8035/8035 [==============================] - 430s 54ms/step - loss: 1.1324\n",
      "Epoch 32/50\n",
      "8035/8035 [==============================] - 430s 54ms/step - loss: 1.0355\n",
      "Epoch 33/50\n",
      "8035/8035 [==============================] - 431s 54ms/step - loss: 0.9575\n",
      "Epoch 34/50\n",
      "8035/8035 [==============================] - 430s 54ms/step - loss: 0.8771\n",
      "Epoch 35/50\n",
      "8035/8035 [==============================] - 431s 54ms/step - loss: 0.8519\n",
      "Epoch 36/50\n",
      "8035/8035 [==============================] - 431s 54ms/step - loss: 0.8550\n",
      "Epoch 37/50\n",
      "8035/8035 [==============================] - 439s 55ms/step - loss: 0.7579\n",
      "Epoch 38/50\n",
      "8035/8035 [==============================] - 583s 73ms/step - loss: 0.7089\n",
      "Epoch 39/50\n",
      "8035/8035 [==============================] - 478s 60ms/step - loss: 0.6830\n",
      "Epoch 40/50\n",
      "8035/8035 [==============================] - 431s 54ms/step - loss: 0.6510\n",
      "Epoch 41/50\n",
      "8035/8035 [==============================] - 431s 54ms/step - loss: 0.5959\n",
      "Epoch 42/50\n",
      "8035/8035 [==============================] - 434s 54ms/step - loss: 0.5856\n",
      "Epoch 43/50\n",
      "8035/8035 [==============================] - 431s 54ms/step - loss: 0.5591\n",
      "Epoch 44/50\n",
      "8035/8035 [==============================] - 431s 54ms/step - loss: 0.5379\n",
      "Epoch 45/50\n",
      "8035/8035 [==============================] - 431s 54ms/step - loss: 0.4974\n",
      "Epoch 46/50\n",
      "8035/8035 [==============================] - 431s 54ms/step - loss: 0.4630\n",
      "Epoch 47/50\n",
      "8035/8035 [==============================] - 431s 54ms/step - loss: 0.4302\n",
      "Epoch 48/50\n",
      "8035/8035 [==============================] - 432s 54ms/step - loss: 0.4357\n",
      "Epoch 49/50\n",
      "8035/8035 [==============================] - 431s 54ms/step - loss: 0.4210\n",
      "Epoch 50/50\n",
      "8035/8035 [==============================] - 431s 54ms/step - loss: 0.4280\n"
     ]
    },
    {
     "data": {
      "text/plain": [
       "<keras.callbacks.callbacks.History at 0x7f0f294d8b20>"
      ]
     },
     "execution_count": 21,
     "metadata": {},
     "output_type": "execute_result"
    }
   ],
   "source": [
    "model.fit(X_tr, y_tr, epochs=50, batch_size=64)"
   ]
  },
  {
   "cell_type": "markdown",
   "metadata": {},
   "source": [
    "## Guardamos el modelo generado"
   ]
  },
  {
   "cell_type": "code",
   "execution_count": 22,
   "metadata": {},
   "outputs": [],
   "source": [
    "model.save('musica.h5')"
   ]
  },
  {
   "cell_type": "markdown",
   "metadata": {},
   "source": [
    "## Generación de las notas que comformarán la melodía final (inversa de la codificación) utilizando la red entrenada"
   ]
  },
  {
   "cell_type": "code",
   "execution_count": 33,
   "metadata": {},
   "outputs": [],
   "source": [
    "inicio = np.random.randint(0, len(X_tr-1))\n",
    "secuencia = X[inicio]\n",
    "composicion = []\n",
    "\n",
    "# generamos notas\n",
    "for indice in range(500):\n",
    "    prediccion_in = np.reshape(secuencia, (1, len(secuencia), 1))\n",
    "    prediccion_in = prediccion_in / float(num_notas_distintas)\n",
    "    \n",
    "    prediccion = model.predict(prediccion_in, verbose=0)\n",
    "\n",
    "    index = np.argmax(prediccion)\n",
    "    result = int_a_nota[index]\n",
    "    composicion.append(result)\n",
    "\n",
    "    secuencia.append(index)\n",
    "    secuencia = secuencia[1:len(secuencia)]"
   ]
  },
  {
   "cell_type": "markdown",
   "metadata": {},
   "source": [
    "## Generación del archivo MIDI final"
   ]
  },
  {
   "cell_type": "code",
   "execution_count": 34,
   "metadata": {},
   "outputs": [
    {
     "data": {
      "text/plain": [
       "'cancion.mid'"
      ]
     },
     "execution_count": 34,
     "metadata": {},
     "output_type": "execute_result"
    }
   ],
   "source": [
    "offset = 0\n",
    "cancion = []\n",
    "\n",
    "for elemento in composicion:\n",
    "    \n",
    "    if ('.' in elemento) or elemento.isdigit():\n",
    "        notas_acorde = elemento.split('.')\n",
    "        notes = []\n",
    "        for nota_actual in notas_acorde:\n",
    "            new_nota = note.Note(int(nota_actual))\n",
    "            new_nota.storedInstrument = instrument.Piano()\n",
    "            notes.append(new_nota)\n",
    "        new_acorde = chord.Chord(notes)\n",
    "        new_acorde.offset = offset\n",
    "        cancion.append(new_acorde)\n",
    "    else:\n",
    "        new_nota = note.Note(elemento)\n",
    "        new_nota.offset = offset\n",
    "        new_note.storedInstrument = instrument.Piano()\n",
    "        cancion.append(new_note)\n",
    "\n",
    "    offset += 0.5\n",
    "\n",
    "midi_stream = stream.Stream(cancion)\n",
    "\n",
    "midi_stream.write('midi', fp='cancion.mid')"
   ]
  },
  {
   "cell_type": "code",
   "execution_count": null,
   "metadata": {},
   "outputs": [],
   "source": []
  },
  {
   "cell_type": "code",
   "execution_count": null,
   "metadata": {},
   "outputs": [],
   "source": []
  }
 ],
 "metadata": {
  "kernelspec": {
   "display_name": "Python 3",
   "language": "python",
   "name": "python3"
  },
  "language_info": {
   "codemirror_mode": {
    "name": "ipython",
    "version": 3
   },
   "file_extension": ".py",
   "mimetype": "text/x-python",
   "name": "python",
   "nbconvert_exporter": "python",
   "pygments_lexer": "ipython3",
   "version": "3.8.2"
  }
 },
 "nbformat": 4,
 "nbformat_minor": 4
}
